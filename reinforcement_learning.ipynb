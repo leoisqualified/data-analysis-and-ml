{
  "nbformat": 4,
  "nbformat_minor": 0,
  "metadata": {
    "colab": {
      "provenance": [],
      "authorship_tag": "ABX9TyOWFFC07uqbIfKUKYCZexPL",
      "include_colab_link": true
    },
    "kernelspec": {
      "name": "python3",
      "display_name": "Python 3"
    },
    "language_info": {
      "name": "python"
    }
  },
  "cells": [
    {
      "cell_type": "markdown",
      "metadata": {
        "id": "view-in-github",
        "colab_type": "text"
      },
      "source": [
        "<a href=\"https://colab.research.google.com/github/leoisqualified/data-analysis-and-ml/blob/main/reinforcement_learning.ipynb\" target=\"_parent\"><img src=\"https://colab.research.google.com/assets/colab-badge.svg\" alt=\"Open In Colab\"/></a>"
      ]
    },
    {
      "cell_type": "code",
      "execution_count": null,
      "metadata": {
        "id": "w8yWVu6B9Gu1"
      },
      "outputs": [],
      "source": [
        "#import dependencies\n",
        "import pandas as pd\n",
        "import numpy as np"
      ]
    },
    {
      "cell_type": "code",
      "source": [
        "#create the environment class\n",
        "class Env:\n",
        "  def __init__(self, size):\n",
        "    self.size = size\n",
        "    self.state = (0,0)\n",
        "    self.goal = (size-1,size-1)\n",
        "\n",
        "    #create reset function for state\n",
        "    def reset(self):\n",
        "      self.state = (0,0)\n",
        "      return self.state\n",
        "\n",
        "    #create step function to traverse the grid wall\n",
        "    def step(self, action):\n",
        "      row,col = self.state\n",
        "      if action == 0:\n",
        "        new_row = max(row - 1,0)\n",
        "      elif action == 1:\n",
        "        new_row = min(row + 1,self.size-1)\n",
        "      elif action == 2:\n",
        "        new_col = max(col - 1,0)\n",
        "      elif action == 3:\n",
        "        new_col = min(col + 1,self.size-1)\n",
        "      self.state = (new_row, new_col)\n",
        "      reward = 0\n",
        "      if self.state == self.goal:\n",
        "        reward += 1\n",
        "        return self.state, reward, True, {}\n",
        "      else:\n",
        "        reward = -1\n",
        "        return self.state, reward, False, {}"
      ],
      "metadata": {
        "id": "35W8q4y7B7Lc"
      },
      "execution_count": 3,
      "outputs": []
    },
    {
      "cell_type": "code",
      "source": [
        "#creating the agent\n",
        "class Agent:\n",
        "  def __init__(self, env, lr, df, eps):\n",
        "    self.env = env\n",
        "    self.lr = lr\n",
        "    self.df = df\n",
        "    self.eps = eps\n",
        "\n",
        "  #def Action(self, state):\n",
        "    #if np.random.uniform(0,1) > self.eps:\n",
        "      #action = np.random.randint(0,4)\n",
        "\n",
        "  def learn(self, state, action, reward, newState):\n",
        "    row, col = state\n",
        "    nextRow, nextCol = newState\n",
        "    bestStateAction = np.argmax(self"
      ],
      "metadata": {
        "id": "IVeGrX3WODu1"
      },
      "execution_count": null,
      "outputs": []
    }
  ]
}